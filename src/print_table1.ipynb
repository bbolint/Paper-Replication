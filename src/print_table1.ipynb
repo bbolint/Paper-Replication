{
 "cells": [
  {
   "cell_type": "markdown",
   "metadata": {},
   "source": [
    "# print out table1\n",
    "\n"
   ]
  },
  {
   "cell_type": "code",
   "execution_count": 1,
   "metadata": {},
   "outputs": [],
   "source": [
    "import pandas as pd\n",
    "import numpy as np\n",
    "import networkx as nx\n",
    "import os\n",
    "from utils import read_edgelist, read_network, DATASET_EPINIONS, DATASET_WIKIPEDIA, DATASET_SLASHDOT\n",
    "from networkx.algorithms.triads import triadic_census\n",
    "\n",
    "ROOTPATH = os.getcwd()[:-3]"
   ]
  },
  {
   "cell_type": "code",
   "execution_count": 2,
   "metadata": {},
   "outputs": [],
   "source": [
    "epin_df = read_edgelist(DATASET_EPINIONS)\n",
    "wiki_df = read_edgelist(DATASET_WIKIPEDIA)\n",
    "slad_df = read_edgelist(DATASET_SLASHDOT)"
   ]
  },
  {
   "cell_type": "code",
   "execution_count": 3,
   "metadata": {},
   "outputs": [],
   "source": [
    "epin_g = read_network(DATASET_EPINIONS)\n",
    "wiki_g = read_network(DATASET_WIKIPEDIA)\n",
    "slad_g = read_network(DATASET_SLASHDOT)"
   ]
  },
  {
   "cell_type": "code",
   "execution_count": 4,
   "metadata": {},
   "outputs": [],
   "source": [
    "epin_tri = nx.triadic_census(epin_g)\n",
    "wiki_tri = nx.triadic_census(wiki_g)\n",
    "slad_tri = nx.triadic_census(slad_g)"
   ]
  },
  {
   "cell_type": "markdown",
   "metadata": {},
   "source": [
    "<img src=\"type-of-triads.png\" width=400>"
   ]
  },
  {
   "cell_type": "code",
   "execution_count": 7,
   "metadata": {
    "scrolled": true
   },
   "outputs": [],
   "source": [
    "def total_triads(tri):\n",
    "    count = tri[\"030T\"]+tri[\"030C\"]+2*tri[\"120D\"]+2*tri[\"120U\"]+2*tri[\"120C\"]+4*tri[\"210\"]+8*tri[\"300\"]\n",
    "    return count"
   ]
  },
  {
   "cell_type": "code",
   "execution_count": 8,
   "metadata": {},
   "outputs": [],
   "source": [
    "Ns = []    # number of nodes\n",
    "Es = []    # number of edges\n",
    "pEs = []   # number of + edges\n",
    "nEs = []   # number of - edges\n",
    "Ts = []    # number of triads\n",
    "\n",
    "dfs = [epin_df, slad_df, wiki_df]\n",
    "gs = [epin_g, slad_g, wiki_g]\n",
    "tris = [epin_tri, slad_tri, wiki_tri]\n",
    "\n",
    "for df,g,tri in zip(dfs, gs, tris):\n",
    "    Ns.append((len(g.nodes())))\n",
    "    Es.append((len(g.edges())))\n",
    "    pEs.append(len(df[df[\"sign\"]==1])/len(df))\n",
    "    nEs.append(len(df[df[\"sign\"]!=1])/len(df))\n",
    "    Ts.append(total_triads(tri))"
   ]
  },
  {
   "cell_type": "code",
   "execution_count": 9,
   "metadata": {},
   "outputs": [],
   "source": [
    "table1 = pd.DataFrame()\n",
    "table1[\"Network\"] = [\"Epinions\", \"Slashdot\", \"Wikipedia\"]\n",
    "table1[\"Nodes\"] = Ns\n",
    "table1[\"Edges\"] = Es\n",
    "table1[\"+ edges\"] = pEs\n",
    "table1[\"- edges\"] = nEs\n",
    "table1[\"Triads\"] = Ts"
   ]
  },
  {
   "cell_type": "code",
   "execution_count": 11,
   "metadata": {},
   "outputs": [],
   "source": [
    "table1 = table1.T\n",
    "table1.columns = table1.iloc[0]\n",
    "table1 = table1[1:]"
   ]
  },
  {
   "cell_type": "code",
   "execution_count": 12,
   "metadata": {},
   "outputs": [
    {
     "data": {
      "text/html": [
       "<div>\n",
       "<style scoped>\n",
       "    .dataframe tbody tr th:only-of-type {\n",
       "        vertical-align: middle;\n",
       "    }\n",
       "\n",
       "    .dataframe tbody tr th {\n",
       "        vertical-align: top;\n",
       "    }\n",
       "\n",
       "    .dataframe thead th {\n",
       "        text-align: right;\n",
       "    }\n",
       "</style>\n",
       "<table border=\"1\" class=\"dataframe\">\n",
       "  <thead>\n",
       "    <tr style=\"text-align: right;\">\n",
       "      <th>Network</th>\n",
       "      <th>Epinions</th>\n",
       "      <th>Slashdot</th>\n",
       "      <th>Wikipedia</th>\n",
       "    </tr>\n",
       "  </thead>\n",
       "  <tbody>\n",
       "    <tr>\n",
       "      <th>Nodes</th>\n",
       "      <td>131580</td>\n",
       "      <td>82140</td>\n",
       "      <td>7115</td>\n",
       "    </tr>\n",
       "    <tr>\n",
       "      <th>Edges</th>\n",
       "      <td>840799</td>\n",
       "      <td>549202</td>\n",
       "      <td>103617</td>\n",
       "    </tr>\n",
       "    <tr>\n",
       "      <th>+ edges</th>\n",
       "      <td>0.852914</td>\n",
       "      <td>0.773981</td>\n",
       "      <td>0.784476</td>\n",
       "    </tr>\n",
       "    <tr>\n",
       "      <th>- edges</th>\n",
       "      <td>0.147086</td>\n",
       "      <td>0.226019</td>\n",
       "      <td>0.215524</td>\n",
       "    </tr>\n",
       "    <tr>\n",
       "      <th>Triads</th>\n",
       "      <td>13317672</td>\n",
       "      <td>1508105</td>\n",
       "      <td>789047</td>\n",
       "    </tr>\n",
       "  </tbody>\n",
       "</table>\n",
       "</div>"
      ],
      "text/plain": [
       "Network  Epinions  Slashdot Wikipedia\n",
       "Nodes      131580     82140      7115\n",
       "Edges      840799    549202    103617\n",
       "+ edges  0.852914  0.773981  0.784476\n",
       "- edges  0.147086  0.226019  0.215524\n",
       "Triads   13317672   1508105    789047"
      ]
     },
     "execution_count": 12,
     "metadata": {},
     "output_type": "execute_result"
    }
   ],
   "source": [
    "table1"
   ]
  },
  {
   "cell_type": "code",
   "execution_count": null,
   "metadata": {},
   "outputs": [],
   "source": []
  }
 ],
 "metadata": {
  "kernelspec": {
   "display_name": "Python 3",
   "language": "python",
   "name": "python3"
  },
  "language_info": {
   "codemirror_mode": {
    "name": "ipython",
    "version": 3
   },
   "file_extension": ".py",
   "mimetype": "text/x-python",
   "name": "python",
   "nbconvert_exporter": "python",
   "pygments_lexer": "ipython3",
   "version": "3.7.7"
  },
  "latex_envs": {
   "LaTeX_envs_menu_present": true,
   "autoclose": false,
   "autocomplete": true,
   "bibliofile": "biblio.bib",
   "cite_by": "apalike",
   "current_citInitial": 1,
   "eqLabelWithNumbers": true,
   "eqNumInitial": 1,
   "hotkeys": {
    "equation": "Ctrl-E",
    "itemize": "Ctrl-I"
   },
   "labels_anchors": false,
   "latex_user_defs": false,
   "report_style_numbering": false,
   "user_envs_cfg": false
  },
  "toc": {
   "base_numbering": 1,
   "nav_menu": {},
   "number_sections": true,
   "sideBar": true,
   "skip_h1_title": false,
   "title_cell": "Table of Contents",
   "title_sidebar": "Contents",
   "toc_cell": false,
   "toc_position": {},
   "toc_section_display": true,
   "toc_window_display": false
  }
 },
 "nbformat": 4,
 "nbformat_minor": 4
}
