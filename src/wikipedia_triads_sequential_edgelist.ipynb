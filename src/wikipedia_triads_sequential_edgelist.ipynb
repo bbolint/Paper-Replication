{
 "cells": [
  {
   "cell_type": "markdown",
   "id": "bb6d199e",
   "metadata": {},
   "source": [
    "### Loading & preparing edgelist"
   ]
  },
  {
   "cell_type": "code",
   "execution_count": 1,
   "id": "cb7dd6ed",
   "metadata": {},
   "outputs": [],
   "source": [
    "import pandas as pd\n",
    "import numpy as np\n",
    "import networkx as nx\n",
    "import matplotlib\n",
    "import os\n",
    "from time import sleep\n",
    "from tqdm import tqdm\n",
    "ROOTPATH = os.getcwd()[:-3]"
   ]
  },
  {
   "cell_type": "code",
   "execution_count": 169,
   "id": "5039fb4e",
   "metadata": {},
   "outputs": [
    {
     "data": {
      "text/html": [
       "<div>\n",
       "<style scoped>\n",
       "    .dataframe tbody tr th:only-of-type {\n",
       "        vertical-align: middle;\n",
       "    }\n",
       "\n",
       "    .dataframe tbody tr th {\n",
       "        vertical-align: top;\n",
       "    }\n",
       "\n",
       "    .dataframe thead th {\n",
       "        text-align: right;\n",
       "    }\n",
       "</style>\n",
       "<table border=\"1\" class=\"dataframe\">\n",
       "  <thead>\n",
       "    <tr style=\"text-align: right;\">\n",
       "      <th></th>\n",
       "      <th>from</th>\n",
       "      <th>to</th>\n",
       "      <th>sign</th>\n",
       "      <th>timestamp</th>\n",
       "    </tr>\n",
       "  </thead>\n",
       "  <tbody>\n",
       "    <tr>\n",
       "      <th>0</th>\n",
       "      <td>1</td>\n",
       "      <td>2</td>\n",
       "      <td>1</td>\n",
       "      <td>1095171960</td>\n",
       "    </tr>\n",
       "    <tr>\n",
       "      <th>1</th>\n",
       "      <td>3</td>\n",
       "      <td>2</td>\n",
       "      <td>-1</td>\n",
       "      <td>1095173580</td>\n",
       "    </tr>\n",
       "    <tr>\n",
       "      <th>2</th>\n",
       "      <td>4</td>\n",
       "      <td>2</td>\n",
       "      <td>1</td>\n",
       "      <td>1095174480</td>\n",
       "    </tr>\n",
       "  </tbody>\n",
       "</table>\n",
       "</div>"
      ],
      "text/plain": [
       "   from  to  sign   timestamp\n",
       "0     1   2     1  1095171960\n",
       "1     3   2    -1  1095173580\n",
       "2     4   2     1  1095174480"
      ]
     },
     "execution_count": 169,
     "metadata": {},
     "output_type": "execute_result"
    }
   ],
   "source": [
    "wikipedia = pd.read_csv(ROOTPATH + \"data\\\\preprocessed\\\\wikipedia_edges.csv\")\n",
    "wikipedia_no_self_references=wikipedia.loc[wikipedia['from']!=wikipedia['to'],]\n",
    "wikipedia.head(3)"
   ]
  },
  {
   "cell_type": "code",
   "execution_count": 3,
   "id": "e1488dc6",
   "metadata": {},
   "outputs": [
    {
     "data": {
      "text/html": [
       "<div>\n",
       "<style scoped>\n",
       "    .dataframe tbody tr th:only-of-type {\n",
       "        vertical-align: middle;\n",
       "    }\n",
       "\n",
       "    .dataframe tbody tr th {\n",
       "        vertical-align: top;\n",
       "    }\n",
       "\n",
       "    .dataframe thead th {\n",
       "        text-align: right;\n",
       "    }\n",
       "</style>\n",
       "<table border=\"1\" class=\"dataframe\">\n",
       "  <thead>\n",
       "    <tr style=\"text-align: right;\">\n",
       "      <th></th>\n",
       "      <th>source</th>\n",
       "      <th>target</th>\n",
       "    </tr>\n",
       "  </thead>\n",
       "  <tbody>\n",
       "    <tr>\n",
       "      <th>0</th>\n",
       "      <td>1</td>\n",
       "      <td>2</td>\n",
       "    </tr>\n",
       "    <tr>\n",
       "      <th>1</th>\n",
       "      <td>1</td>\n",
       "      <td>26</td>\n",
       "    </tr>\n",
       "    <tr>\n",
       "      <th>2</th>\n",
       "      <td>1</td>\n",
       "      <td>169</td>\n",
       "    </tr>\n",
       "  </tbody>\n",
       "</table>\n",
       "</div>"
      ],
      "text/plain": [
       "   source  target\n",
       "0       1       2\n",
       "1       1      26\n",
       "2       1     169"
      ]
     },
     "execution_count": 3,
     "metadata": {},
     "output_type": "execute_result"
    }
   ],
   "source": [
    "G = nx.Graph([tuple(x) for x in wikipedia[['from','to']].values])\n",
    "wikipedia_undir_edgelist=nx.convert_matrix.to_pandas_edgelist(G)\n",
    "wikipedia_undir_edgelist_switched=wikipedia_undir_edgelist[['target','source']]\n",
    "wikipedia_undir_edgelist_switched.columns=['source','target']\n",
    "wikipedia_undir_edgelist_both_dir=pd.concat([wikipedia_undir_edgelist,wikipedia_undir_edgelist_switched])\n",
    "wikipedia_undir_edgelist_both_dir.drop_duplicates(inplace=True)\n",
    "wikipedia_undir_edgelist_both_dir.head(3)"
   ]
  },
  {
   "cell_type": "code",
   "execution_count": 5,
   "id": "c03dbabc",
   "metadata": {
    "run_control": {
     "marked": true
    }
   },
   "outputs": [
    {
     "data": {
      "text/html": [
       "<div>\n",
       "<style scoped>\n",
       "    .dataframe tbody tr th:only-of-type {\n",
       "        vertical-align: middle;\n",
       "    }\n",
       "\n",
       "    .dataframe tbody tr th {\n",
       "        vertical-align: top;\n",
       "    }\n",
       "\n",
       "    .dataframe thead th {\n",
       "        text-align: right;\n",
       "    }\n",
       "</style>\n",
       "<table border=\"1\" class=\"dataframe\">\n",
       "  <thead>\n",
       "    <tr style=\"text-align: right;\">\n",
       "      <th></th>\n",
       "      <th>node_1</th>\n",
       "      <th>node_2</th>\n",
       "      <th>node_3</th>\n",
       "    </tr>\n",
       "  </thead>\n",
       "  <tbody>\n",
       "    <tr>\n",
       "      <th>0</th>\n",
       "      <td>1</td>\n",
       "      <td>2</td>\n",
       "      <td>3</td>\n",
       "    </tr>\n",
       "    <tr>\n",
       "      <th>1</th>\n",
       "      <td>1</td>\n",
       "      <td>2</td>\n",
       "      <td>4</td>\n",
       "    </tr>\n",
       "    <tr>\n",
       "      <th>2</th>\n",
       "      <td>1</td>\n",
       "      <td>2</td>\n",
       "      <td>5</td>\n",
       "    </tr>\n",
       "  </tbody>\n",
       "</table>\n",
       "</div>"
      ],
      "text/plain": [
       "   node_1  node_2  node_3\n",
       "0       1       2       3\n",
       "1       1       2       4\n",
       "2       1       2       5"
      ]
     },
     "execution_count": 5,
     "metadata": {},
     "output_type": "execute_result"
    }
   ],
   "source": [
    "wiki_triads=wikipedia_undir_edgelist_both_dir.merge(wikipedia_undir_edgelist_both_dir, how='inner',left_on='target',right_on='source')[['source_x','target_x','target_y']]\n",
    "wiki_triads.columns=['node_1','node_2','node_3']\n",
    "wiki_triads.head(3)"
   ]
  },
  {
   "cell_type": "markdown",
   "id": "f7de9442",
   "metadata": {},
   "source": [
    "### Calculating list of eventual triads"
   ]
  },
  {
   "cell_type": "code",
   "execution_count": 36,
   "id": "ebc13c10",
   "metadata": {},
   "outputs": [
    {
     "name": "stderr",
     "output_type": "stream",
     "text": [
      "100%|██████████████████████████████████████████████████████████████████████████████| 7118/7118 [06:48<00:00, 17.44it/s]\n"
     ]
    },
    {
     "data": {
      "text/html": [
       "<div>\n",
       "<style scoped>\n",
       "    .dataframe tbody tr th:only-of-type {\n",
       "        vertical-align: middle;\n",
       "    }\n",
       "\n",
       "    .dataframe tbody tr th {\n",
       "        vertical-align: top;\n",
       "    }\n",
       "\n",
       "    .dataframe thead th {\n",
       "        text-align: right;\n",
       "    }\n",
       "</style>\n",
       "<table border=\"1\" class=\"dataframe\">\n",
       "  <thead>\n",
       "    <tr style=\"text-align: right;\">\n",
       "      <th></th>\n",
       "      <th>node_1</th>\n",
       "      <th>node_2</th>\n",
       "      <th>node_3</th>\n",
       "      <th>source</th>\n",
       "      <th>target</th>\n",
       "    </tr>\n",
       "  </thead>\n",
       "  <tbody>\n",
       "    <tr>\n",
       "      <th>86</th>\n",
       "      <td>1</td>\n",
       "      <td>2</td>\n",
       "      <td>3</td>\n",
       "      <td>3</td>\n",
       "      <td>1</td>\n",
       "    </tr>\n",
       "    <tr>\n",
       "      <th>353</th>\n",
       "      <td>6</td>\n",
       "      <td>2</td>\n",
       "      <td>3</td>\n",
       "      <td>3</td>\n",
       "      <td>6</td>\n",
       "    </tr>\n",
       "    <tr>\n",
       "      <th>530</th>\n",
       "      <td>8</td>\n",
       "      <td>2</td>\n",
       "      <td>3</td>\n",
       "      <td>3</td>\n",
       "      <td>8</td>\n",
       "    </tr>\n",
       "  </tbody>\n",
       "</table>\n",
       "</div>"
      ],
      "text/plain": [
       "     node_1  node_2  node_3  source  target\n",
       "86        1       2       3       3       1\n",
       "353       6       2       3       3       6\n",
       "530       8       2       3       3       8"
      ]
     },
     "execution_count": 36,
     "metadata": {},
     "output_type": "execute_result"
    }
   ],
   "source": [
    "list_dfs=[]\n",
    "\n",
    "for node in tqdm(list(wiki_triads['node_3'].unique())):\n",
    "    \n",
    "    if np.isin(node,wikipedia_undir_edgelist_both_dir['source'].unique()):\n",
    "        \n",
    "        df_temp_1=wiki_triads.loc[wiki_triads['node_3']==node]\n",
    "        df_temp_2=wikipedia_undir_edgelist_both_dir.loc[wikipedia_undir_edgelist_both_dir['source']==node]\n",
    "        df_temp_3=df_temp_1.merge(df_temp_2,how='left',left_on='node_3',right_on='source')\n",
    "        df_temp_3=df_temp_3.loc[df_temp_3['node_1']==df_temp_3['target']]\n",
    "        \n",
    "        list_dfs.append(df_temp_3)\n",
    "\n",
    "eventual_triads=pd.concat(list_dfs)\n",
    "eventual_triads.head(3)"
   ]
  },
  {
   "cell_type": "markdown",
   "id": "aeb059b5",
   "metadata": {},
   "source": [
    "### Removing duplicated triads & saving"
   ]
  },
  {
   "cell_type": "code",
   "execution_count": 42,
   "id": "2184ee01",
   "metadata": {},
   "outputs": [],
   "source": [
    "eventual_triads=eventual_triads[['node_1','node_2','node_3']]\n",
    "\n",
    "list_row_sets=[]\n",
    "\n",
    "for index, row in tqdm(eventual_triads.iterrows()):\n",
    "    \n",
    "    list_row_sets.append(frozenset(row))\n",
    "    \n",
    "set_of_triads=[list(e) for e in list(set(list_row_sets))]\n",
    "\n",
    "eventual_triads_no_duplicates=pd.DataFrame(set_of_triads,columns=['node_1','node_2','node_3'])\n",
    "eventual_triads_no_duplicates=eventual_triads_no_duplicates[~eventual_triads_no_duplicates.isnull().any(axis=1)]\n",
    "eventual_triads_no_duplicates=eventual_triads_no_duplicates.astype(int)"
   ]
  },
  {
   "cell_type": "code",
   "execution_count": 85,
   "id": "e63d6695",
   "metadata": {},
   "outputs": [],
   "source": [
    "eventual_triads_no_duplicates.to_csv('eventual_triads_wikipedia.csv')"
   ]
  },
  {
   "cell_type": "markdown",
   "id": "cc92ad54",
   "metadata": {},
   "source": [
    "### Adding sequence of linkages to eventual triads"
   ]
  },
  {
   "cell_type": "code",
   "execution_count": 154,
   "id": "7fd1ee45",
   "metadata": {},
   "outputs": [
    {
     "data": {
      "text/html": [
       "<div>\n",
       "<style scoped>\n",
       "    .dataframe tbody tr th:only-of-type {\n",
       "        vertical-align: middle;\n",
       "    }\n",
       "\n",
       "    .dataframe tbody tr th {\n",
       "        vertical-align: top;\n",
       "    }\n",
       "\n",
       "    .dataframe thead th {\n",
       "        text-align: right;\n",
       "    }\n",
       "</style>\n",
       "<table border=\"1\" class=\"dataframe\">\n",
       "  <thead>\n",
       "    <tr style=\"text-align: right;\">\n",
       "      <th></th>\n",
       "      <th>node_1</th>\n",
       "      <th>node_2</th>\n",
       "      <th>node_3</th>\n",
       "      <th>first_link_node_1</th>\n",
       "      <th>first_link_node_2</th>\n",
       "      <th>first_link_sign</th>\n",
       "      <th>second_link_node_1</th>\n",
       "      <th>second_link_node_2</th>\n",
       "      <th>second_link_sign</th>\n",
       "      <th>third_link_node_1</th>\n",
       "      <th>...</th>\n",
       "      <th>third_link_sign</th>\n",
       "      <th>fourth_link_node_1</th>\n",
       "      <th>fourth_link_node_2</th>\n",
       "      <th>fourth_link_sign</th>\n",
       "      <th>fifth_link_node_1</th>\n",
       "      <th>fifth_link_node_2</th>\n",
       "      <th>fifth_link_sign</th>\n",
       "      <th>sixth_link_node_1</th>\n",
       "      <th>sixth_link_node_2</th>\n",
       "      <th>sixth_link_sign</th>\n",
       "    </tr>\n",
       "  </thead>\n",
       "  <tbody>\n",
       "    <tr>\n",
       "      <th>0</th>\n",
       "      <td>2762</td>\n",
       "      <td>2349</td>\n",
       "      <td>2431</td>\n",
       "      <td>NaN</td>\n",
       "      <td>NaN</td>\n",
       "      <td>NaN</td>\n",
       "      <td>NaN</td>\n",
       "      <td>NaN</td>\n",
       "      <td>NaN</td>\n",
       "      <td>NaN</td>\n",
       "      <td>...</td>\n",
       "      <td>NaN</td>\n",
       "      <td>NaN</td>\n",
       "      <td>NaN</td>\n",
       "      <td>NaN</td>\n",
       "      <td>NaN</td>\n",
       "      <td>NaN</td>\n",
       "      <td>NaN</td>\n",
       "      <td>NaN</td>\n",
       "      <td>NaN</td>\n",
       "      <td>NaN</td>\n",
       "    </tr>\n",
       "    <tr>\n",
       "      <th>1</th>\n",
       "      <td>2466</td>\n",
       "      <td>5051</td>\n",
       "      <td>757</td>\n",
       "      <td>NaN</td>\n",
       "      <td>NaN</td>\n",
       "      <td>NaN</td>\n",
       "      <td>NaN</td>\n",
       "      <td>NaN</td>\n",
       "      <td>NaN</td>\n",
       "      <td>NaN</td>\n",
       "      <td>...</td>\n",
       "      <td>NaN</td>\n",
       "      <td>NaN</td>\n",
       "      <td>NaN</td>\n",
       "      <td>NaN</td>\n",
       "      <td>NaN</td>\n",
       "      <td>NaN</td>\n",
       "      <td>NaN</td>\n",
       "      <td>NaN</td>\n",
       "      <td>NaN</td>\n",
       "      <td>NaN</td>\n",
       "    </tr>\n",
       "    <tr>\n",
       "      <th>2</th>\n",
       "      <td>1673</td>\n",
       "      <td>52</td>\n",
       "      <td>863</td>\n",
       "      <td>NaN</td>\n",
       "      <td>NaN</td>\n",
       "      <td>NaN</td>\n",
       "      <td>NaN</td>\n",
       "      <td>NaN</td>\n",
       "      <td>NaN</td>\n",
       "      <td>NaN</td>\n",
       "      <td>...</td>\n",
       "      <td>NaN</td>\n",
       "      <td>NaN</td>\n",
       "      <td>NaN</td>\n",
       "      <td>NaN</td>\n",
       "      <td>NaN</td>\n",
       "      <td>NaN</td>\n",
       "      <td>NaN</td>\n",
       "      <td>NaN</td>\n",
       "      <td>NaN</td>\n",
       "      <td>NaN</td>\n",
       "    </tr>\n",
       "  </tbody>\n",
       "</table>\n",
       "<p>3 rows × 21 columns</p>\n",
       "</div>"
      ],
      "text/plain": [
       "   node_1  node_2  node_3  first_link_node_1  first_link_node_2  \\\n",
       "0    2762    2349    2431                NaN                NaN   \n",
       "1    2466    5051     757                NaN                NaN   \n",
       "2    1673      52     863                NaN                NaN   \n",
       "\n",
       "   first_link_sign  second_link_node_1  second_link_node_2  second_link_sign  \\\n",
       "0              NaN                 NaN                 NaN               NaN   \n",
       "1              NaN                 NaN                 NaN               NaN   \n",
       "2              NaN                 NaN                 NaN               NaN   \n",
       "\n",
       "   third_link_node_1  ...  third_link_sign  fourth_link_node_1  \\\n",
       "0                NaN  ...              NaN                 NaN   \n",
       "1                NaN  ...              NaN                 NaN   \n",
       "2                NaN  ...              NaN                 NaN   \n",
       "\n",
       "   fourth_link_node_2  fourth_link_sign  fifth_link_node_1  fifth_link_node_2  \\\n",
       "0                 NaN               NaN                NaN                NaN   \n",
       "1                 NaN               NaN                NaN                NaN   \n",
       "2                 NaN               NaN                NaN                NaN   \n",
       "\n",
       "   fifth_link_sign  sixth_link_node_1  sixth_link_node_2  sixth_link_sign  \n",
       "0              NaN                NaN                NaN              NaN  \n",
       "1              NaN                NaN                NaN              NaN  \n",
       "2              NaN                NaN                NaN              NaN  \n",
       "\n",
       "[3 rows x 21 columns]"
      ]
     },
     "execution_count": 154,
     "metadata": {},
     "output_type": "execute_result"
    }
   ],
   "source": [
    "eventual_triads_no_duplicates[['first_link_node_1','first_link_node_2','first_link_sign',\n",
    "                               'second_link_node_1','second_link_node_2','second_link_sign',\n",
    "                               'third_link_node_1','third_link_node_2','third_link_sign',\n",
    "                               'fourth_link_node_1','fourth_link_node_2','fourth_link_sign',\n",
    "                               'fifth_link_node_1','fifth_link_node_2','fifth_link_sign',\n",
    "                               'sixth_link_node_1','sixth_link_node_2','sixth_link_sign']]=np.nan\n",
    "eventual_triads_no_duplicates.head(3)"
   ]
  },
  {
   "cell_type": "code",
   "execution_count": 183,
   "id": "09a36e3e",
   "metadata": {
    "scrolled": true
   },
   "outputs": [
    {
     "name": "stderr",
     "output_type": "stream",
     "text": [
      "607279it [12:28:31, 13.52it/s] \n"
     ]
    },
    {
     "ename": "PermissionError",
     "evalue": "[Errno 13] Permission denied: 'eventual_triads_list_final.csv'",
     "output_type": "error",
     "traceback": [
      "\u001b[1;31m---------------------------------------------------------------------------\u001b[0m",
      "\u001b[1;31mPermissionError\u001b[0m                           Traceback (most recent call last)",
      "\u001b[1;32mC:\\Users\\BALINT~1.BOJ\\AppData\\Local\\Temp/ipykernel_4104/1877951659.py\u001b[0m in \u001b[0;36m<module>\u001b[1;34m\u001b[0m\n\u001b[0;32m     16\u001b[0m \u001b[1;33m\u001b[0m\u001b[0m\n\u001b[0;32m     17\u001b[0m \u001b[0meventual_triads_no_duplicates_with_sequence\u001b[0m\u001b[1;33m=\u001b[0m\u001b[0mpd\u001b[0m\u001b[1;33m.\u001b[0m\u001b[0mDataFrame\u001b[0m\u001b[1;33m(\u001b[0m\u001b[0mnew_rows\u001b[0m\u001b[1;33m)\u001b[0m\u001b[1;33m\u001b[0m\u001b[1;33m\u001b[0m\u001b[0m\n\u001b[1;32m---> 18\u001b[1;33m \u001b[0meventual_triads_no_duplicates_with_sequence\u001b[0m\u001b[1;33m.\u001b[0m\u001b[0mto_csv\u001b[0m\u001b[1;33m(\u001b[0m\u001b[1;34m'eventual_triads_list_final.csv'\u001b[0m\u001b[1;33m)\u001b[0m\u001b[1;33m\u001b[0m\u001b[1;33m\u001b[0m\u001b[0m\n\u001b[0m",
      "\u001b[1;32m~\\Miniconda3\\lib\\site-packages\\pandas\\core\\generic.py\u001b[0m in \u001b[0;36mto_csv\u001b[1;34m(self, path_or_buf, sep, na_rep, float_format, columns, header, index, index_label, mode, encoding, compression, quoting, quotechar, line_terminator, chunksize, date_format, doublequote, escapechar, decimal, errors)\u001b[0m\n\u001b[0;32m   3168\u001b[0m             \u001b[0mdecimal\u001b[0m\u001b[1;33m=\u001b[0m\u001b[0mdecimal\u001b[0m\u001b[1;33m,\u001b[0m\u001b[1;33m\u001b[0m\u001b[1;33m\u001b[0m\u001b[0m\n\u001b[0;32m   3169\u001b[0m         )\n\u001b[1;32m-> 3170\u001b[1;33m         \u001b[0mformatter\u001b[0m\u001b[1;33m.\u001b[0m\u001b[0msave\u001b[0m\u001b[1;33m(\u001b[0m\u001b[1;33m)\u001b[0m\u001b[1;33m\u001b[0m\u001b[1;33m\u001b[0m\u001b[0m\n\u001b[0m\u001b[0;32m   3171\u001b[0m \u001b[1;33m\u001b[0m\u001b[0m\n\u001b[0;32m   3172\u001b[0m         \u001b[1;32mif\u001b[0m \u001b[0mpath_or_buf\u001b[0m \u001b[1;32mis\u001b[0m \u001b[1;32mNone\u001b[0m\u001b[1;33m:\u001b[0m\u001b[1;33m\u001b[0m\u001b[1;33m\u001b[0m\u001b[0m\n",
      "\u001b[1;32m~\\Miniconda3\\lib\\site-packages\\pandas\\io\\formats\\csvs.py\u001b[0m in \u001b[0;36msave\u001b[1;34m(self)\u001b[0m\n\u001b[0;32m    183\u001b[0m             \u001b[0mclose\u001b[0m \u001b[1;33m=\u001b[0m \u001b[1;32mFalse\u001b[0m\u001b[1;33m\u001b[0m\u001b[1;33m\u001b[0m\u001b[0m\n\u001b[0;32m    184\u001b[0m         \u001b[1;32melse\u001b[0m\u001b[1;33m:\u001b[0m\u001b[1;33m\u001b[0m\u001b[1;33m\u001b[0m\u001b[0m\n\u001b[1;32m--> 185\u001b[1;33m             f, handles = get_handle(\n\u001b[0m\u001b[0;32m    186\u001b[0m                 \u001b[0mself\u001b[0m\u001b[1;33m.\u001b[0m\u001b[0mpath_or_buf\u001b[0m\u001b[1;33m,\u001b[0m\u001b[1;33m\u001b[0m\u001b[1;33m\u001b[0m\u001b[0m\n\u001b[0;32m    187\u001b[0m                 \u001b[0mself\u001b[0m\u001b[1;33m.\u001b[0m\u001b[0mmode\u001b[0m\u001b[1;33m,\u001b[0m\u001b[1;33m\u001b[0m\u001b[1;33m\u001b[0m\u001b[0m\n",
      "\u001b[1;32m~\\Miniconda3\\lib\\site-packages\\pandas\\io\\common.py\u001b[0m in \u001b[0;36mget_handle\u001b[1;34m(path_or_buf, mode, encoding, compression, memory_map, is_text, errors)\u001b[0m\n\u001b[0;32m    491\u001b[0m         \u001b[1;32mif\u001b[0m \u001b[0mencoding\u001b[0m\u001b[1;33m:\u001b[0m\u001b[1;33m\u001b[0m\u001b[1;33m\u001b[0m\u001b[0m\n\u001b[0;32m    492\u001b[0m             \u001b[1;31m# Encoding\u001b[0m\u001b[1;33m\u001b[0m\u001b[1;33m\u001b[0m\u001b[1;33m\u001b[0m\u001b[0m\n\u001b[1;32m--> 493\u001b[1;33m             \u001b[0mf\u001b[0m \u001b[1;33m=\u001b[0m \u001b[0mopen\u001b[0m\u001b[1;33m(\u001b[0m\u001b[0mpath_or_buf\u001b[0m\u001b[1;33m,\u001b[0m \u001b[0mmode\u001b[0m\u001b[1;33m,\u001b[0m \u001b[0mencoding\u001b[0m\u001b[1;33m=\u001b[0m\u001b[0mencoding\u001b[0m\u001b[1;33m,\u001b[0m \u001b[0merrors\u001b[0m\u001b[1;33m=\u001b[0m\u001b[0merrors\u001b[0m\u001b[1;33m,\u001b[0m \u001b[0mnewline\u001b[0m\u001b[1;33m=\u001b[0m\u001b[1;34m\"\"\u001b[0m\u001b[1;33m)\u001b[0m\u001b[1;33m\u001b[0m\u001b[1;33m\u001b[0m\u001b[0m\n\u001b[0m\u001b[0;32m    494\u001b[0m         \u001b[1;32melif\u001b[0m \u001b[0mis_text\u001b[0m\u001b[1;33m:\u001b[0m\u001b[1;33m\u001b[0m\u001b[1;33m\u001b[0m\u001b[0m\n\u001b[0;32m    495\u001b[0m             \u001b[1;31m# No explicit encoding\u001b[0m\u001b[1;33m\u001b[0m\u001b[1;33m\u001b[0m\u001b[1;33m\u001b[0m\u001b[0m\n",
      "\u001b[1;31mPermissionError\u001b[0m: [Errno 13] Permission denied: 'eventual_triads_list_final.csv'"
     ]
    }
   ],
   "source": [
    "new_rows=[]\n",
    "\n",
    "#eventual_triads_no_duplicates=eventual_triads_no_duplicates[['node_1','node_2','node_3','sign']]\n",
    "\n",
    "for index, row in tqdm(eventual_triads_no_duplicates.iterrows()):\n",
    "    \n",
    "    tmp_list_nodes=list(row[['node_1','node_2','node_3']])\n",
    "    \n",
    "    df_temp=wikipedia_no_self_references.loc[wikipedia_no_self_references['from'].isin(tmp_list_nodes)&wikipedia_no_self_references['to'].isin(tmp_list_nodes),]\n",
    "    df_temp=df_temp[['from','to','sign']]\n",
    "    col_len=len(sum(df_temp.values.tolist(), []))\n",
    "\n",
    "    row.iloc[3:3+col_len]=sum(df_temp.values.tolist(), [])\n",
    "    \n",
    "    new_rows.append(row)\n",
    "\n",
    "eventual_triads_no_duplicates_with_sequence=pd.DataFrame(new_rows)\n",
    "#eventual_triads_no_duplicates_with_sequence.to_csv('eventual_triads_list_final.csv')"
   ]
  },
  {
   "cell_type": "markdown",
   "id": "a430fac5",
   "metadata": {},
   "source": [
    "### Filtering out only those triads in the df for which the sets of two nodes for the first three links are different (i.e. become a triad after the first three linkages)"
   ]
  },
  {
   "cell_type": "code",
   "execution_count": null,
   "id": "41d8630d",
   "metadata": {},
   "outputs": [],
   "source": [
    "eventual_triads_indices=[]\n",
    "\n",
    "list_row_sets=[]\n",
    "\n",
    "for index, row in tqdm(eventual_triads_no_duplicates_with_sequence.iterrows()):\n",
    "    \n",
    "    if len(set([frozenset(tuple([row['first_link_node_1'],row['first_link_node_2']])),\n",
    "               frozenset(tuple([row['second_link_node_1'],row['second_link_node_2']])),\n",
    "               frozenset(tuple([row['third_link_node_1'],row['third_link_node_2']]))]))==3:\n",
    "        \n",
    "        eventual_triads_indices.append(index)\n",
    "        \n",
    "eventual_triads_no_duplicates_with_sequence=eventual_triads_no_duplicates_with_sequence.filter(eventual_triads_indices,axis=0)\n",
    "#eventual_triads_no_duplicates_with_sequence.to_csv('eventual_triads_list_final.csv')"
   ]
  }
 ],
 "metadata": {
  "kernelspec": {
   "display_name": "Python 3 (ipykernel)",
   "language": "python",
   "name": "python3"
  },
  "language_info": {
   "codemirror_mode": {
    "name": "ipython",
    "version": 3
   },
   "file_extension": ".py",
   "mimetype": "text/x-python",
   "name": "python",
   "nbconvert_exporter": "python",
   "pygments_lexer": "ipython3",
   "version": "3.9.5"
  },
  "latex_envs": {
   "LaTeX_envs_menu_present": true,
   "autoclose": false,
   "autocomplete": true,
   "bibliofile": "biblio.bib",
   "cite_by": "apalike",
   "current_citInitial": 1,
   "eqLabelWithNumbers": true,
   "eqNumInitial": 1,
   "hotkeys": {
    "equation": "Ctrl-E",
    "itemize": "Ctrl-I"
   },
   "labels_anchors": false,
   "latex_user_defs": false,
   "report_style_numbering": false,
   "user_envs_cfg": false
  },
  "toc": {
   "base_numbering": 1,
   "nav_menu": {},
   "number_sections": true,
   "sideBar": true,
   "skip_h1_title": false,
   "title_cell": "Table of Contents",
   "title_sidebar": "Contents",
   "toc_cell": false,
   "toc_position": {},
   "toc_section_display": true,
   "toc_window_display": false
  }
 },
 "nbformat": 4,
 "nbformat_minor": 5
}
