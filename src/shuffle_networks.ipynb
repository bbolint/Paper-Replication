{
 "cells": [
  {
   "cell_type": "markdown",
   "metadata": {},
   "source": [
    "# Create shuffled networks\n",
    "For each dataset, create a randomized representation by shuffling the edge signs."
   ]
  },
  {
   "cell_type": "markdown",
   "metadata": {},
   "source": [
    "## Imports"
   ]
  },
  {
   "cell_type": "code",
   "execution_count": 6,
   "metadata": {},
   "outputs": [],
   "source": [
    "import pandas as pd\n",
    "import numpy as np\n",
    "import networkx as nx\n",
    "import os\n",
    "\n",
    "from utils import read_edgelist, DATASET_EPINIONS, DATASET_WIKIPEDIA, DATASET_SLASHDOT"
   ]
  },
  {
   "cell_type": "code",
   "execution_count": 7,
   "metadata": {},
   "outputs": [],
   "source": [
    "OUT_DIR = os.path.join(os.getcwd(), \"..\", \"data\", \"permutations\")"
   ]
  },
  {
   "cell_type": "markdown",
   "metadata": {},
   "source": [
    "## Data\n",
    "Get the data from the stored .csv files"
   ]
  },
  {
   "cell_type": "code",
   "execution_count": 8,
   "metadata": {},
   "outputs": [],
   "source": [
    "df_epinions = read_edgelist(DATASET_EPINIONS)\n",
    "df_wikipedia = read_edgelist(DATASET_WIKIPEDIA)\n",
    "df_slashdot = read_edgelist(DATASET_SLASHDOT)"
   ]
  },
  {
   "cell_type": "markdown",
   "metadata": {},
   "source": [
    "## Shuffle"
   ]
  },
  {
   "cell_type": "code",
   "execution_count": 9,
   "metadata": {},
   "outputs": [],
   "source": [
    "def shuffle_signs(data: pd.DataFrame) -> pd.DataFrame:\n",
    "    signs_shuffled = np.random.permutation(data[\"sign\"])\n",
    "    data_copy = data.copy()\n",
    "    data_copy[\"sign\"] = signs_shuffled\n",
    "    return data_copy"
   ]
  },
  {
   "cell_type": "code",
   "execution_count": 11,
   "metadata": {},
   "outputs": [],
   "source": [
    "shuffle_signs(df_epinions).to_csv(os.path.join(OUT_DIR, DATASET_EPINIONS+\"_edges.csv\"), index=False)\n",
    "shuffle_signs(df_slashdot).to_csv(os.path.join(OUT_DIR, DATASET_SLASHDOT+\"_edges.csv\"), index=False)\n",
    "shuffle_signs(df_wikipedia).to_csv(os.path.join(OUT_DIR, DATASET_WIKIPEDIA+\"_edges.csv\"), index=False)"
   ]
  }
 ],
 "metadata": {
  "interpreter": {
   "hash": "af602acad8f2f6e05bc99849c9d46caea7ff76100ee8d2778202692e059a43d4"
  },
  "kernelspec": {
   "display_name": "Python 3.9.0 64-bit ('smns': conda)",
   "name": "python3"
  },
  "language_info": {
   "codemirror_mode": {
    "name": "ipython",
    "version": 3
   },
   "file_extension": ".py",
   "mimetype": "text/x-python",
   "name": "python",
   "nbconvert_exporter": "python",
   "pygments_lexer": "ipython3",
   "version": "3.9.0"
  },
  "orig_nbformat": 4
 },
 "nbformat": 4,
 "nbformat_minor": 2
}
