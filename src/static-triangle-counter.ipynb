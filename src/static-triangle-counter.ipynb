{
 "cells": [
  {
   "cell_type": "code",
   "execution_count": 1,
   "id": "6fb79bf4-72c5-4ebf-8367-e1a7995a765e",
   "metadata": {},
   "outputs": [],
   "source": [
    "import pandas as pd\n",
    "import networkx as nx\n",
    "import numpy as np\n",
    "import multiprocessing as mp\n",
    "from itertools import product"
   ]
  },
  {
   "cell_type": "code",
   "execution_count": 2,
   "id": "3679c600-feab-4839-82d1-e579b72cfd6b",
   "metadata": {},
   "outputs": [],
   "source": [
    "# for G, current_df in product(G_list, df_list):\n",
    "def triangle_counter(args):\n",
    "    G, current_df = args\n",
    "    desired_trigs = 0\n",
    "    for i in range( len(current_df) ):\n",
    "        edge = current_df.iloc[i]['from'], current_df.iloc[i]['to']\n",
    "    #     print(edge)\n",
    "    #     edge = pos_df.iloc[i]['from'], pos_df.iloc[i]['to']\n",
    "\n",
    "        if (edge[0] in G.nodes()) and (edge[1] in G.nodes()):\n",
    "            source_neighbors = list( G.successors(edge[0]) )\n",
    "            target_neighbors = list( G.successors(edge[1]) )\n",
    "            desired_trigs += len( (set(source_neighbors) & set(target_neighbors))   - {edge[0], edge[1]} )\n",
    "\n",
    "            source_neighbors = list( G.predecessors(edge[0]) )\n",
    "            target_neighbors = list( G.predecessors(edge[1]) )\n",
    "            desired_trigs += len( (set(source_neighbors) & set(target_neighbors))  - {edge[0], edge[1]} )\n",
    "\n",
    "            source_neighbors = list( G.predecessors(edge[0]) )\n",
    "            target_neighbors = list( G.successors(edge[1]) )\n",
    "            desired_trigs += len( (set(source_neighbors) & set(target_neighbors)) - {edge[0], edge[1]} ) \n",
    "\n",
    "            source_neighbors = list( G.successors(edge[0]) )\n",
    "            target_neighbors = list( G.predecessors(edge[1]) )\n",
    "            desired_trigs += len( (set(source_neighbors) & set(target_neighbors)) - {edge[0], edge[1]} ) \n",
    "\n",
    "    #         source_neighbors = list( G.successors(edge[0]) )\n",
    "    #         target_neighbors = list( G.successors(edge[1]) )\n",
    "    #         pos_pos_neg_trigs += len( (set(source_neighbors) & set(target_neighbors)) - {edge[0], edge[1]} ) \n",
    "\n",
    "\n",
    "            if (i % 50000) == 0:\n",
    "                print(i)\n",
    "#     setting_ind += 1\n",
    "#     desired_trig_array[setting_ind]\n",
    "    return desired_trigs"
   ]
  },
  {
   "cell_type": "code",
   "execution_count": 3,
   "id": "703e7e3e-896f-4c02-b1ad-abc5641df1ec",
   "metadata": {},
   "outputs": [],
   "source": [
    "def neg_pos_divider(df):\n",
    "    G = nx.from_pandas_edgelist(df, source = 'from', target = 'to', edge_attr = 'sign', create_using=nx.DiGraph)\n",
    "\n",
    "    G.number_of_edges()\n",
    "\n",
    "    len(G)\n",
    "\n",
    "    len(df)\n",
    "\n",
    "    # desired_sign = 1 # -1\n",
    "    pos_df = df.loc[ df['sign'] == +1 ]\n",
    "    neg_df = df.loc[ df['sign'] == -1 ]\n",
    "\n",
    "    G_pos = nx.from_pandas_edgelist(pos_df, source = 'from', target = 'to', edge_attr = 'sign', create_using=nx.DiGraph)\n",
    "    G_neg = nx.from_pandas_edgelist(neg_df, source = 'from', target = 'to', edge_attr = 'sign', create_using=nx.DiGraph)\n",
    "    return pos_df, neg_df, G_pos, G_neg"
   ]
  },
  {
   "cell_type": "code",
   "execution_count": 4,
   "id": "ebda770a-fba4-4ca4-9fb7-1595565a3152",
   "metadata": {},
   "outputs": [],
   "source": [
    "loc = '../data/preprocessed/'\n",
    "\n",
    "input_file = 'epinions_edges.csv'\n",
    "# input_file = 'slashdot_edges.csv'\n",
    "# input_file = 'wikipedia_edges.csv'"
   ]
  },
  {
   "cell_type": "code",
   "execution_count": 5,
   "id": "c6bfcf96-ba51-453a-a582-25eb059569f4",
   "metadata": {},
   "outputs": [],
   "source": [
    "df = pd.read_csv(loc + input_file)\n",
    "\n",
    "# np.sum( df.duplicated(subset=['from', 'to']) )"
   ]
  },
  {
   "cell_type": "code",
   "execution_count": 6,
   "id": "411435b9-535c-481e-8181-4865098f4299",
   "metadata": {},
   "outputs": [],
   "source": [
    "df_sh = df.copy(deep=True)\n",
    "\n",
    "df_sh['sign'] = np.random.permutation( df_sh['sign'] )"
   ]
  },
  {
   "cell_type": "code",
   "execution_count": null,
   "id": "5b9480f8-28f7-4cfa-874a-c5a0657f4b3c",
   "metadata": {},
   "outputs": [],
   "source": [
    "results = []\n",
    "for df_i, df_o in enumerate( [df, df_sh] ):\n",
    "    pos_df, neg_df, G_pos, G_neg = neg_pos_divider(df_o)\n",
    "\n",
    "    G_list = [G_pos, G_neg]\n",
    "    df_list = [ pos_df, neg_df ]\n",
    "    jobs = []\n",
    "    for G, current_df in product(G_list, df_list):\n",
    "        args = G, current_df\n",
    "        jobs.append(args)\n",
    "\n",
    "    with mp.Pool(mp.cpu_count()) as pool:\n",
    "        p_r = pool.map_async(triangle_counter, jobs)\n",
    "        res = p_r.get()\n",
    "    results.append(res)"
   ]
  },
  {
   "cell_type": "code",
   "execution_count": 8,
   "id": "8813deac-574d-4f09-9675-39b956d62e1e",
   "metadata": {},
   "outputs": [],
   "source": [
    "results_orig = results"
   ]
  },
  {
   "cell_type": "code",
   "execution_count": 9,
   "id": "03647c71-f732-431f-a7cf-4e6aa4f0423f",
   "metadata": {},
   "outputs": [],
   "source": [
    "results[0][0]/=3\n",
    "results[0][-1]/=3\n",
    "results[1][0]/=3\n",
    "results[1][-1]/=3"
   ]
  },
  {
   "cell_type": "code",
   "execution_count": 10,
   "id": "15af889b-b12d-48a0-b534-c3d7acb6f0e3",
   "metadata": {},
   "outputs": [],
   "source": [
    "triangles_df = pd.DataFrame(columns=['T3', 'T2', 'T1', 'T0'])"
   ]
  },
  {
   "cell_type": "code",
   "execution_count": 11,
   "id": "4f6639e5-046a-4397-8c6d-3556799a4684",
   "metadata": {},
   "outputs": [],
   "source": [
    "triangles_df.loc[0] = np.array(results[0]).astype('int')"
   ]
  },
  {
   "cell_type": "code",
   "execution_count": 12,
   "id": "bbfb4373-1add-4653-8c67-c0f71f1be91d",
   "metadata": {},
   "outputs": [],
   "source": [
    "triangles_df = triangles_df.T"
   ]
  },
  {
   "cell_type": "code",
   "execution_count": 13,
   "id": "4e76f351-661b-4e25-a98a-3e4cb9fdae10",
   "metadata": {},
   "outputs": [],
   "source": [
    "triangles_df.columns=['$T_i$']"
   ]
  },
  {
   "cell_type": "code",
   "execution_count": 14,
   "id": "900f5ef3-8efb-4c92-9b8d-dc2491928a1f",
   "metadata": {},
   "outputs": [],
   "source": [
    "triangles_df['$p(T_i)$'] = triangles_df['$T_i$'] / triangles_df['$T_i$'].sum()"
   ]
  },
  {
   "cell_type": "code",
   "execution_count": 15,
   "id": "8315a4ee-8e6c-43b9-b577-06c7995e1e57",
   "metadata": {},
   "outputs": [],
   "source": [
    "triangles_df['$p_0(T_i)$'] = np.array(results[1]) / np.sum(results[1])"
   ]
  },
  {
   "cell_type": "code",
   "execution_count": 16,
   "id": "21ce3616-2aca-4378-a6a9-72c3c3012a2e",
   "metadata": {},
   "outputs": [],
   "source": [
    "delta = np.sum(results[0]).astype('int')"
   ]
  },
  {
   "cell_type": "code",
   "execution_count": 17,
   "id": "a92c1494-4e8c-4dd9-9978-ddf1e18adc8d",
   "metadata": {},
   "outputs": [],
   "source": [
    "triangles_df['$s(T_i)$'] = (triangles_df['$T_i$'] - (triangles_df['$p_0(T_i)$'] * delta))  /  np.sqrt( delta * triangles_df['$p_0(T_i)$'] * (1-triangles_df['$p_0(T_i)$']) )"
   ]
  },
  {
   "cell_type": "code",
   "execution_count": 18,
   "id": "778596fa-c856-4ab6-bb99-5d0d123b649c",
   "metadata": {},
   "outputs": [
    {
     "data": {
      "text/html": [
       "<div>\n",
       "<style scoped>\n",
       "    .dataframe tbody tr th:only-of-type {\n",
       "        vertical-align: middle;\n",
       "    }\n",
       "\n",
       "    .dataframe tbody tr th {\n",
       "        vertical-align: top;\n",
       "    }\n",
       "\n",
       "    .dataframe thead th {\n",
       "        text-align: right;\n",
       "    }\n",
       "</style>\n",
       "<table border=\"1\" class=\"dataframe\">\n",
       "  <thead>\n",
       "    <tr style=\"text-align: right;\">\n",
       "      <th></th>\n",
       "      <th>$T_i$</th>\n",
       "      <th>$p(T_i)$</th>\n",
       "      <th>$p_0(T_i)$</th>\n",
       "      <th>$s(T_i)$</th>\n",
       "    </tr>\n",
       "  </thead>\n",
       "  <tbody>\n",
       "    <tr>\n",
       "      <th>T3</th>\n",
       "      <td>11637474</td>\n",
       "      <td>0.871295</td>\n",
       "      <td>0.618762</td>\n",
       "      <td>1900.229788</td>\n",
       "    </tr>\n",
       "    <tr>\n",
       "      <th>T2</th>\n",
       "      <td>927177</td>\n",
       "      <td>0.069418</td>\n",
       "      <td>0.321760</td>\n",
       "      <td>-1974.14737</td>\n",
       "    </tr>\n",
       "    <tr>\n",
       "      <th>T1</th>\n",
       "      <td>704144</td>\n",
       "      <td>0.052719</td>\n",
       "      <td>0.056234</td>\n",
       "      <td>-55.767249</td>\n",
       "    </tr>\n",
       "    <tr>\n",
       "      <th>T0</th>\n",
       "      <td>87725</td>\n",
       "      <td>0.006568</td>\n",
       "      <td>0.003244</td>\n",
       "      <td>213.660732</td>\n",
       "    </tr>\n",
       "  </tbody>\n",
       "</table>\n",
       "</div>"
      ],
      "text/plain": [
       "       $T_i$  $p(T_i)$  $p_0(T_i)$     $s(T_i)$\n",
       "T3  11637474  0.871295    0.618762  1900.229788\n",
       "T2    927177  0.069418    0.321760  -1974.14737\n",
       "T1    704144  0.052719    0.056234   -55.767249\n",
       "T0     87725  0.006568    0.003244   213.660732"
      ]
     },
     "execution_count": 18,
     "metadata": {},
     "output_type": "execute_result"
    }
   ],
   "source": [
    "triangles_df"
   ]
  },
  {
   "cell_type": "code",
   "execution_count": 19,
   "id": "d3963ad9-4916-4257-aef9-5f01a200ec08",
   "metadata": {},
   "outputs": [],
   "source": [
    "triangles_df.to_csv('../data/static-triangle-count/' + 'static-triangle-count-' + input_file)"
   ]
  },
  {
   "cell_type": "code",
   "execution_count": null,
   "id": "c556a67e-364a-4a75-aff9-01b7699327af",
   "metadata": {},
   "outputs": [],
   "source": []
  }
 ],
 "metadata": {
  "kernelspec": {
   "display_name": "Python 3",
   "language": "python",
   "name": "python3"
  },
  "language_info": {
   "codemirror_mode": {
    "name": "ipython",
    "version": 3
   },
   "file_extension": ".py",
   "mimetype": "text/x-python",
   "name": "python",
   "nbconvert_exporter": "python",
   "pygments_lexer": "ipython3",
   "version": "3.8.10"
  }
 },
 "nbformat": 4,
 "nbformat_minor": 5
}
