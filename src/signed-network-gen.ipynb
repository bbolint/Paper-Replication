{
 "cells": [
  {
   "cell_type": "code",
   "execution_count": 1,
   "id": "5c7b85a8-81bd-462e-ae23-5e96206a539a",
   "metadata": {},
   "outputs": [],
   "source": [
    "import pandas as pd\n",
    "import networkx as nx\n",
    "import numpy as np"
   ]
  },
  {
   "cell_type": "code",
   "execution_count": 2,
   "id": "fa91ab36-feca-4222-bc68-cb1ce7f6474f",
   "metadata": {},
   "outputs": [],
   "source": [
    "input_file = 'epinions_edges.csv'"
   ]
  },
  {
   "cell_type": "code",
   "execution_count": 3,
   "id": "9b2007a1-bd73-4a94-8e5d-f05380714815",
   "metadata": {},
   "outputs": [],
   "source": [
    "df = pd.read_csv(input_file)"
   ]
  },
  {
   "cell_type": "code",
   "execution_count": 10,
   "id": "042bb944-9e2a-47d1-ae6c-af8b9accebff",
   "metadata": {},
   "outputs": [],
   "source": [
    "desired_sign = -1 # -1\n",
    "sub_df = df.loc[ df['sign'] == desired_sign ]"
   ]
  },
  {
   "cell_type": "code",
   "execution_count": 11,
   "id": "7714cc34-28fc-478a-bbf7-9a8583eb5898",
   "metadata": {},
   "outputs": [
    {
     "data": {
      "text/html": [
       "<div>\n",
       "<style scoped>\n",
       "    .dataframe tbody tr th:only-of-type {\n",
       "        vertical-align: middle;\n",
       "    }\n",
       "\n",
       "    .dataframe tbody tr th {\n",
       "        vertical-align: top;\n",
       "    }\n",
       "\n",
       "    .dataframe thead th {\n",
       "        text-align: right;\n",
       "    }\n",
       "</style>\n",
       "<table border=\"1\" class=\"dataframe\">\n",
       "  <thead>\n",
       "    <tr style=\"text-align: right;\">\n",
       "      <th></th>\n",
       "      <th>from</th>\n",
       "      <th>to</th>\n",
       "      <th>sign</th>\n",
       "    </tr>\n",
       "  </thead>\n",
       "  <tbody>\n",
       "    <tr>\n",
       "      <th>0</th>\n",
       "      <td>0</td>\n",
       "      <td>1</td>\n",
       "      <td>-1</td>\n",
       "    </tr>\n",
       "    <tr>\n",
       "      <th>1</th>\n",
       "      <td>1</td>\n",
       "      <td>128552</td>\n",
       "      <td>-1</td>\n",
       "    </tr>\n",
       "    <tr>\n",
       "      <th>3</th>\n",
       "      <td>4</td>\n",
       "      <td>5</td>\n",
       "      <td>-1</td>\n",
       "    </tr>\n",
       "    <tr>\n",
       "      <th>4</th>\n",
       "      <td>4</td>\n",
       "      <td>155</td>\n",
       "      <td>-1</td>\n",
       "    </tr>\n",
       "    <tr>\n",
       "      <th>6</th>\n",
       "      <td>4</td>\n",
       "      <td>1509</td>\n",
       "      <td>-1</td>\n",
       "    </tr>\n",
       "  </tbody>\n",
       "</table>\n",
       "</div>"
      ],
      "text/plain": [
       "   from      to  sign\n",
       "0     0       1    -1\n",
       "1     1  128552    -1\n",
       "3     4       5    -1\n",
       "4     4     155    -1\n",
       "6     4    1509    -1"
      ]
     },
     "execution_count": 11,
     "metadata": {},
     "output_type": "execute_result"
    }
   ],
   "source": [
    "sub_df.head()"
   ]
  },
  {
   "cell_type": "code",
   "execution_count": 12,
   "id": "21321cf5-8aae-4e6a-883d-7b82feaef84b",
   "metadata": {},
   "outputs": [],
   "source": [
    "L = set(sub_df['from']) | set(sub_df['to'])\n",
    "\n",
    "L = np.sort( list(L) )\n",
    "\n",
    "d = {v: i for i, v in enumerate(L)}\n",
    "\n",
    "\n",
    "\n",
    "def relabel(value):\n",
    "    ind = d[value]\n",
    "    return ind"
   ]
  },
  {
   "cell_type": "code",
   "execution_count": 13,
   "id": "5627ab2d-026a-4bc6-b6b3-6521c890e0ea",
   "metadata": {},
   "outputs": [
    {
     "name": "stderr",
     "output_type": "stream",
     "text": [
      "/home/sepante/.local/lib/python3.8/site-packages/pandas/core/frame.py:3607: SettingWithCopyWarning: \n",
      "A value is trying to be set on a copy of a slice from a DataFrame.\n",
      "Try using .loc[row_indexer,col_indexer] = value instead\n",
      "\n",
      "See the caveats in the documentation: https://pandas.pydata.org/pandas-docs/stable/user_guide/indexing.html#returning-a-view-versus-a-copy\n",
      "  self._set_item(key, value)\n"
     ]
    }
   ],
   "source": [
    "sub_df.loc[:, 'from'] = sub_df['from'].map(relabel)\n",
    "sub_df.loc[:, 'to'] = sub_df['to'].map(relabel)"
   ]
  },
  {
   "cell_type": "code",
   "execution_count": 14,
   "id": "d1c8088a-5357-4494-9531-a4a40f392e58",
   "metadata": {},
   "outputs": [],
   "source": [
    "if desired_sign == 1:\n",
    "    sign_title = 'positive'\n",
    "else:\n",
    "    sign_title = 'negative'"
   ]
  },
  {
   "cell_type": "code",
   "execution_count": 15,
   "id": "8ceafc3f-f1c6-4262-aa39-f104369edf1b",
   "metadata": {},
   "outputs": [],
   "source": [
    "sub_df.to_csv('signed-networks/' + sign_title + '-' + input_file, index = False)"
   ]
  },
  {
   "cell_type": "code",
   "execution_count": 16,
   "id": "19fde384-eb5f-46b3-81b0-273ff145dbb5",
   "metadata": {},
   "outputs": [
    {
     "ename": "NameError",
     "evalue": "name 'G' is not defined",
     "output_type": "error",
     "traceback": [
      "\u001b[0;31m---------------------------------------------------------------------------\u001b[0m",
      "\u001b[0;31mNameError\u001b[0m                                 Traceback (most recent call last)",
      "\u001b[0;32m/tmp/ipykernel_13509/2142179666.py\u001b[0m in \u001b[0;36m<module>\u001b[0;34m\u001b[0m\n\u001b[0;32m----> 1\u001b[0;31m \u001b[0mlargest_cc\u001b[0m \u001b[0;34m=\u001b[0m \u001b[0mmax\u001b[0m\u001b[0;34m(\u001b[0m\u001b[0mnx\u001b[0m\u001b[0;34m.\u001b[0m\u001b[0mconnected_components\u001b[0m\u001b[0;34m(\u001b[0m\u001b[0mG\u001b[0m\u001b[0;34m)\u001b[0m\u001b[0;34m,\u001b[0m \u001b[0mkey\u001b[0m\u001b[0;34m=\u001b[0m\u001b[0mlen\u001b[0m\u001b[0;34m)\u001b[0m\u001b[0;34m\u001b[0m\u001b[0;34m\u001b[0m\u001b[0m\n\u001b[0m",
      "\u001b[0;31mNameError\u001b[0m: name 'G' is not defined"
     ]
    }
   ],
   "source": [
    "largest_cc = max(nx.connected_components(G), key=len)"
   ]
  },
  {
   "cell_type": "code",
   "execution_count": 18,
   "id": "1c40de6f-4ae5-4ecf-9d14-9245751f2a80",
   "metadata": {},
   "outputs": [],
   "source": [
    "G_conn_non_ord = G.subgraph( largest_cc ).copy()"
   ]
  },
  {
   "cell_type": "code",
   "execution_count": 29,
   "id": "891675bd-9b9c-4775-bb81-fd7d4f351b0b",
   "metadata": {},
   "outputs": [],
   "source": [
    "nodelist = list( G_conn_non_ord.nodes() )\n",
    "nodelist.sort()\n",
    "mapping = {old_label:new_label for new_label, old_label in enumerate(nodelist)}\n",
    "G_conn = nx.relabel_nodes(G_conn_non_ord, mapping)"
   ]
  },
  {
   "cell_type": "code",
   "execution_count": 30,
   "id": "407c6f1e-3332-4211-b05a-a8a8568bedc4",
   "metadata": {},
   "outputs": [
    {
     "data": {
      "text/plain": [
       "704572"
      ]
     },
     "execution_count": 30,
     "metadata": {},
     "output_type": "execute_result"
    }
   ],
   "source": [
    "G_conn.number_of_edges()"
   ]
  },
  {
   "cell_type": "code",
   "execution_count": 8,
   "id": "acc4d236-e6a8-4291-b116-f918703ac2a8",
   "metadata": {},
   "outputs": [],
   "source": [
    "sparse = nx.linalg.graphmatrix.adjacency_matrix(G)"
   ]
  },
  {
   "cell_type": "code",
   "execution_count": 37,
   "id": "9dd29756-0fce-42d5-9c27-c7b5b31185f5",
   "metadata": {},
   "outputs": [
    {
     "data": {
      "text/plain": [
       "711783.0"
      ]
     },
     "execution_count": 37,
     "metadata": {},
     "output_type": "execute_result"
    }
   ],
   "source": [
    "powerthree.sum() / 2 + 573/2"
   ]
  },
  {
   "cell_type": "code",
   "execution_count": null,
   "id": "dfc613d2-11c6-41ce-987e-a6a7b1aa6b06",
   "metadata": {},
   "outputs": [],
   "source": [
    "sparse.dot(sparse)"
   ]
  },
  {
   "cell_type": "markdown",
   "id": "77b585d1-20b1-47be-ad24-50ddb715545e",
   "metadata": {},
   "source": [
    "# sparse.power(3)"
   ]
  },
  {
   "cell_type": "code",
   "execution_count": 12,
   "id": "4049f3c7-d088-4006-bdaa-ac58dbd6f5e2",
   "metadata": {},
   "outputs": [
    {
     "data": {
      "text/plain": [
       "<1x131828 sparse matrix of type '<class 'numpy.int64'>'\n",
       "\twith 1 stored elements in Compressed Sparse Row format>"
      ]
     },
     "execution_count": 12,
     "metadata": {},
     "output_type": "execute_result"
    }
   ],
   "source": [
    "powerthree[0"
   ]
  },
  {
   "cell_type": "code",
   "execution_count": 14,
   "id": "bf675f5f-cbc6-4ea5-9fa2-ec5fe7c6fca4",
   "metadata": {},
   "outputs": [],
   "source": [
    "import numpy as np"
   ]
  },
  {
   "cell_type": "code",
   "execution_count": 16,
   "id": "372356b5-2e53-4329-9393-30b1e3aed175",
   "metadata": {},
   "outputs": [
    {
     "data": {
      "text/plain": [
       "573"
      ]
     },
     "execution_count": 16,
     "metadata": {},
     "output_type": "execute_result"
    }
   ],
   "source": [
    "np.sum( powerthree.diagonal() )"
   ]
  },
  {
   "cell_type": "code",
   "execution_count": 23,
   "id": "538e1b96-47e1-4982-b0af-c06674ca9948",
   "metadata": {},
   "outputs": [
    {
     "data": {
      "text/plain": [
       "0"
      ]
     },
     "execution_count": 23,
     "metadata": {},
     "output_type": "execute_result"
    }
   ],
   "source": [
    "powerthree.min()"
   ]
  },
  {
   "cell_type": "code",
   "execution_count": 24,
   "id": "0ebc5e38-4d43-42e8-b79f-f4f8ed1e00ca",
   "metadata": {},
   "outputs": [
    {
     "data": {
      "text/plain": [
       "0"
      ]
     },
     "execution_count": 24,
     "metadata": {},
     "output_type": "execute_result"
    }
   ],
   "source": [
    "sparse.min()"
   ]
  },
  {
   "cell_type": "code",
   "execution_count": 24,
   "id": "d6fe6b95-7fd1-4d29-a993-8d6356a11fca",
   "metadata": {},
   "outputs": [],
   "source": [
    "t = nx.triangles(G)"
   ]
  },
  {
   "cell_type": "code",
   "execution_count": 26,
   "id": "2080922a-e6c6-47de-b645-9988b8f766c5",
   "metadata": {},
   "outputs": [],
   "source": [
    "# t"
   ]
  },
  {
   "cell_type": "code",
   "execution_count": 27,
   "id": "ab9b4775-0eac-473d-a975-7d88b9e7c994",
   "metadata": {},
   "outputs": [
    {
     "data": {
      "text/plain": [
       "4910076.0"
      ]
     },
     "execution_count": 27,
     "metadata": {},
     "output_type": "execute_result"
    }
   ],
   "source": [
    "sum( t.values() ) / 3"
   ]
  },
  {
   "cell_type": "code",
   "execution_count": null,
   "id": "53927a76-92ef-4e99-a9d2-91fd214f35e9",
   "metadata": {},
   "outputs": [],
   "source": []
  }
 ],
 "metadata": {
  "kernelspec": {
   "display_name": "Python 3 (ipykernel)",
   "language": "python",
   "name": "python3"
  },
  "language_info": {
   "codemirror_mode": {
    "name": "ipython",
    "version": 3
   },
   "file_extension": ".py",
   "mimetype": "text/x-python",
   "name": "python",
   "nbconvert_exporter": "python",
   "pygments_lexer": "ipython3",
   "version": "3.8.10"
  }
 },
 "nbformat": 4,
 "nbformat_minor": 5
}
